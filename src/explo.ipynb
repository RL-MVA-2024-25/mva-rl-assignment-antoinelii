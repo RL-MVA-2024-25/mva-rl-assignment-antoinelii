{
 "cells": [
  {
   "cell_type": "code",
   "execution_count": 1,
   "metadata": {},
   "outputs": [
    {
     "ename": "ModuleNotFoundError",
     "evalue": "No module named 'env_hiv'",
     "output_type": "error",
     "traceback": [
      "\u001b[1;31m---------------------------------------------------------------------------\u001b[0m",
      "\u001b[1;31mModuleNotFoundError\u001b[0m                       Traceback (most recent call last)",
      "Cell \u001b[1;32mIn[1], line 1\u001b[0m\n\u001b[1;32m----> 1\u001b[0m \u001b[38;5;28;01mfrom\u001b[39;00m \u001b[38;5;21;01msrc\u001b[39;00m\u001b[38;5;21;01m.\u001b[39;00m\u001b[38;5;21;01mtrain\u001b[39;00m \u001b[38;5;28;01mimport\u001b[39;00m ProjectAgent\n\u001b[0;32m      2\u001b[0m \u001b[38;5;28;01mfrom\u001b[39;00m \u001b[38;5;21;01msrc\u001b[39;00m\u001b[38;5;21;01m.\u001b[39;00m\u001b[38;5;21;01mevaluate\u001b[39;00m \u001b[38;5;28;01mimport\u001b[39;00m evaluate_agent\n\u001b[0;32m      3\u001b[0m \u001b[38;5;28;01mfrom\u001b[39;00m \u001b[38;5;21;01msrc\u001b[39;00m\u001b[38;5;21;01m.\u001b[39;00m\u001b[38;5;21;01menv_hiv\u001b[39;00m \u001b[38;5;28;01mimport\u001b[39;00m HIVPatient\n",
      "File \u001b[1;32mc:\\Users\\33783\\Desktop\\MVA\\reinforcement_learning\\mva-rl-assignment-antoinelii\\src\\train.py:2\u001b[0m\n\u001b[0;32m      1\u001b[0m \u001b[38;5;28;01mfrom\u001b[39;00m \u001b[38;5;21;01mgymnasium\u001b[39;00m\u001b[38;5;21;01m.\u001b[39;00m\u001b[38;5;21;01mwrappers\u001b[39;00m \u001b[38;5;28;01mimport\u001b[39;00m TimeLimit\n\u001b[1;32m----> 2\u001b[0m \u001b[38;5;28;01mfrom\u001b[39;00m \u001b[38;5;21;01menv_hiv\u001b[39;00m \u001b[38;5;28;01mimport\u001b[39;00m HIVPatient\n\u001b[0;32m      4\u001b[0m env \u001b[38;5;241m=\u001b[39m TimeLimit(\n\u001b[0;32m      5\u001b[0m     env\u001b[38;5;241m=\u001b[39mHIVPatient(domain_randomization\u001b[38;5;241m=\u001b[39m\u001b[38;5;28;01mFalse\u001b[39;00m), max_episode_steps\u001b[38;5;241m=\u001b[39m\u001b[38;5;241m200\u001b[39m\n\u001b[0;32m      6\u001b[0m )  \u001b[38;5;66;03m# The time wrapper limits the number of steps in an episode at 200.\u001b[39;00m\n\u001b[0;32m      7\u001b[0m \u001b[38;5;66;03m# Now is the floor is yours to implement the agent and train it.\u001b[39;00m\n\u001b[0;32m      8\u001b[0m \n\u001b[0;32m      9\u001b[0m \n\u001b[0;32m     10\u001b[0m \u001b[38;5;66;03m# You have to implement your own agent.\u001b[39;00m\n\u001b[0;32m     11\u001b[0m \u001b[38;5;66;03m# Don't modify the methods names and signatures, but you can add methods.\u001b[39;00m\n\u001b[0;32m     12\u001b[0m \u001b[38;5;66;03m# ENJOY!\u001b[39;00m\n",
      "\u001b[1;31mModuleNotFoundError\u001b[0m: No module named 'env_hiv'"
     ]
    }
   ],
   "source": [
    "from train import ProjectAgent\n",
    "from evaluate import evaluate_agent\n",
    "from env_hiv import HIVPatient\n",
    "from gymnasium.wrappers import TimeLimit\n",
    "\n",
    "env = TimeLimit(HIVPatient(), max_episode_steps=200)"
   ]
  },
  {
   "cell_type": "code",
   "execution_count": null,
   "metadata": {},
   "outputs": [],
   "source": [
    "nb_episode = 10\n",
    "\n",
    "rewards: list[float] = []\n",
    "for _ in range(nb_episode):\n",
    "    obs, info = env.reset()\n",
    "    done = False\n",
    "    truncated = False\n",
    "    episode_reward = 0\n",
    "    while not done and not truncated:\n",
    "        action = ProjectAgent.act(obs)\n",
    "        obs, reward, done, truncated, _ = env.step(action)\n",
    "        episode_reward += reward\n",
    "    rewards.append(episode_reward)"
   ]
  }
 ],
 "metadata": {
  "kernelspec": {
   "display_name": "rlassign",
   "language": "python",
   "name": "python3"
  },
  "language_info": {
   "codemirror_mode": {
    "name": "ipython",
    "version": 3
   },
   "file_extension": ".py",
   "mimetype": "text/x-python",
   "name": "python",
   "nbconvert_exporter": "python",
   "pygments_lexer": "ipython3",
   "version": "3.11.10"
  }
 },
 "nbformat": 4,
 "nbformat_minor": 2
}
